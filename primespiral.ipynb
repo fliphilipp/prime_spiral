{
 "cells": [
  {
   "cell_type": "markdown",
   "id": "65e98cda-5c96-41c6-bd6c-257bed00a566",
   "metadata": {},
   "source": [
    "# Prime Spirals"
   ]
  },
  {
   "cell_type": "code",
   "execution_count": 1,
   "id": "7f66a992-8556-417a-abf4-8263da26a27f",
   "metadata": {},
   "outputs": [],
   "source": [
    "%matplotlib widget\n",
    "import numpy as np\n",
    "import sympy as sp\n",
    "import matplotlib.pyplot as plt"
   ]
  },
  {
   "cell_type": "code",
   "execution_count": 2,
   "id": "a837dd07-1a12-470a-ba40-cb0561fe50be",
   "metadata": {},
   "outputs": [],
   "source": [
    "n_primes = 50000  # nuber of primes\n",
    "\n",
    "# initialize arrays\n",
    "x_primes = np.full(n_primes, np.nan, dtype=np.int16)  # allocate int array for x coordinates\n",
    "y_primes = np.full(n_primes, np.nan, dtype=np.int16)  # allocate int array for y coordinates\n",
    "primes = np.full(n_primes, False, dtype=np.int16)   # allocate array of primes\n",
    "\n",
    "# initial conditions\n",
    "x = 0\n",
    "y = 0\n",
    "n_primes_found = 0\n",
    "\n",
    "# step counters\n",
    "nsteps = 1\n",
    "stepsleft = 2\n",
    "\n",
    "# x and y coordinate additions, depending on direction (0:right, 1:up, 2: left, 3: down)\n",
    "addx = [1, 0, -1, 0]  # in order: right, up, left, down\n",
    "addy = [0, 1, 0, -1]  # in order: right, up, left, down"
   ]
  },
  {
   "cell_type": "code",
   "execution_count": 3,
   "id": "894903bf-7f50-4f14-8e7b-9fb5e97da5ee",
   "metadata": {},
   "outputs": [
    {
     "name": "stdout",
     "output_type": "stream",
     "text": [
      "CPU times: user 1.59 s, sys: 2.01 ms, total: 1.59 s\n",
      "Wall time: 1.59 s\n"
     ]
    }
   ],
   "source": [
    "%%time\n",
    "i = 1\n",
    "while n_primes_found < n_primes:\n",
    "\n",
    "    # check if number n is a prime and save prime number & coordinates\n",
    "    if sp.isprime(i):\n",
    "        primes[n_primes_found] = i\n",
    "        x_primes[n_primes_found] = x\n",
    "        y_primes[n_primes_found] = y\n",
    "        \n",
    "        # increment number found\n",
    "        n_primes_found += 1\n",
    "        \n",
    "    # move along the spiral\n",
    "    direction = int(2*nsteps-1+np.floor((nsteps-stepsleft)/nsteps))%4\n",
    "    x += addx[direction]\n",
    "    y += addy[direction]\n",
    "\n",
    "    # calculate how many steps are remaining in the given direction\n",
    "    stepsleft -= 1\n",
    "    if stepsleft == 0:\n",
    "        nsteps += 1\n",
    "        stepsleft = 2*nsteps\n",
    "        \n",
    "    # increment loop number  \n",
    "    i += 1"
   ]
  },
  {
   "cell_type": "code",
   "execution_count": 6,
   "id": "c601e027-52d1-4474-a51c-769f443398b1",
   "metadata": {},
   "outputs": [
    {
     "data": {
      "application/vnd.jupyter.widget-view+json": {
       "model_id": "172667d6c66d4ad49fdcaa08600ef928",
       "version_major": 2,
       "version_minor": 0
      },
      "text/plain": [
       "Canvas(toolbar=Toolbar(toolitems=[('Home', 'Reset original view', 'home', 'home'), ('Back', 'Back to previous …"
      ]
     },
     "metadata": {},
     "output_type": "display_data"
    }
   ],
   "source": [
    "fig, ax = plt.subplots(figsize=(8,8))\n",
    "lims = np.max((np.max(np.abs(x_primes)),np.max(np.abs(y_primes))))+1\n",
    "ax.set_xlim((-lims,lims))\n",
    "ax.set_ylim((-lims,lims))\n",
    "ax.set_aspect('equal')\n",
    "ax.axis('off')\n",
    "ax.set_title('Prime Spiral (%i prime numbers)' % n_primes)\n",
    "r = 0.5 # radius in data coords\n",
    "r_ = ax.transData.transform([r,0])[0] - ax.transData.transform([0,0])[0] # radius in display coords\n",
    "size_factor = 5\n",
    "marker_size = size_factor * 2.05 * r_**2\n",
    "ax.scatter(x_primes, y_primes, s=marker_size, c='k', alpha=1, edgecolors='none')\n",
    "fig.savefig('prime_spiral_%i.jpg' % n_primes, dpi=600, bbox_inches='tight')"
   ]
  },
  {
   "cell_type": "code",
   "execution_count": null,
   "id": "bb00c2c2-7ba5-48c3-9f12-2be7fbb25cc2",
   "metadata": {},
   "outputs": [],
   "source": []
  }
 ],
 "metadata": {
  "kernelspec": {
   "display_name": "icepyx-env",
   "language": "python",
   "name": "icepyx-env"
  },
  "language_info": {
   "codemirror_mode": {
    "name": "ipython",
    "version": 3
   },
   "file_extension": ".py",
   "mimetype": "text/x-python",
   "name": "python",
   "nbconvert_exporter": "python",
   "pygments_lexer": "ipython3",
   "version": "3.9.4"
  }
 },
 "nbformat": 4,
 "nbformat_minor": 5
}
